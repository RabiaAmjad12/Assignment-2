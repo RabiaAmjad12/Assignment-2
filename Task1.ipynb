{
 "cells": [
  {
   "cell_type": "code",
   "execution_count": null,
   "id": "ea62ae48-a1ef-4fd0-b9bd-788bcda98ce1",
   "metadata": {},
   "outputs": [],
   "source": [
    "%pip install pandas numpy matplotlib scikit-learn shap"
   ]
  },
  {
   "cell_type": "code",
   "execution_count": 1,
   "id": "036462e0-76f5-4853-8d21-fedf0f9fb10a",
   "metadata": {},
   "outputs": [],
   "source": [
    "import os, io, zipfile, urllib.request, warnings, random\n",
    "import numpy as np\n",
    "import pandas as pd\n",
    "import matplotlib.pyplot as plt\n",
    "\n",
    "from sklearn.model_selection import train_test_split\n",
    "from sklearn.preprocessing import OneHotEncoder, StandardScaler\n",
    "from sklearn.compose import ColumnTransformer\n",
    "from sklearn.pipeline import Pipeline\n",
    "from sklearn.linear_model import LogisticRegression\n",
    "from sklearn.ensemble import RandomForestClassifier\n",
    "from sklearn.metrics import (\n",
    "    confusion_matrix, ConfusionMatrixDisplay,\n",
    "    classification_report, f1_score, roc_curve, auc\n",
    ")\n",
    "import shap\n",
    "\n",
    "RANDOM_STATE = 42\n",
    "np.random.seed(RANDOM_STATE)\n",
    "random.seed(RANDOM_STATE)\n",
    "plt.rcParams[\"figure.figsize\"] = (7,5)"
   ]
  },
  {
   "cell_type": "code",
   "execution_count": 2,
   "id": "82b4eacf-fdbc-403b-af61-4109f3ff80ca",
   "metadata": {},
   "outputs": [],
   "source": [
    "%matplotlib inline"
   ]
  },
  {
   "cell_type": "code",
   "execution_count": 3,
   "id": "8eb55604-f06d-4340-9e51-7b602a43399f",
   "metadata": {},
   "outputs": [
    {
     "data": {
      "text/html": [
       "<div>\n",
       "<style scoped>\n",
       "    .dataframe tbody tr th:only-of-type {\n",
       "        vertical-align: middle;\n",
       "    }\n",
       "\n",
       "    .dataframe tbody tr th {\n",
       "        vertical-align: top;\n",
       "    }\n",
       "\n",
       "    .dataframe thead th {\n",
       "        text-align: right;\n",
       "    }\n",
       "</style>\n",
       "<table border=\"1\" class=\"dataframe\">\n",
       "  <thead>\n",
       "    <tr style=\"text-align: right;\">\n",
       "      <th></th>\n",
       "      <th>age</th>\n",
       "      <th>job</th>\n",
       "      <th>marital</th>\n",
       "      <th>education</th>\n",
       "      <th>default</th>\n",
       "      <th>housing</th>\n",
       "      <th>loan</th>\n",
       "      <th>contact</th>\n",
       "      <th>month</th>\n",
       "      <th>day_of_week</th>\n",
       "      <th>...</th>\n",
       "      <th>campaign</th>\n",
       "      <th>pdays</th>\n",
       "      <th>previous</th>\n",
       "      <th>poutcome</th>\n",
       "      <th>emp.var.rate</th>\n",
       "      <th>cons.price.idx</th>\n",
       "      <th>cons.conf.idx</th>\n",
       "      <th>euribor3m</th>\n",
       "      <th>nr.employed</th>\n",
       "      <th>y</th>\n",
       "    </tr>\n",
       "  </thead>\n",
       "  <tbody>\n",
       "    <tr>\n",
       "      <th>0</th>\n",
       "      <td>56</td>\n",
       "      <td>housemaid</td>\n",
       "      <td>married</td>\n",
       "      <td>basic.4y</td>\n",
       "      <td>no</td>\n",
       "      <td>no</td>\n",
       "      <td>no</td>\n",
       "      <td>telephone</td>\n",
       "      <td>may</td>\n",
       "      <td>mon</td>\n",
       "      <td>...</td>\n",
       "      <td>1</td>\n",
       "      <td>999</td>\n",
       "      <td>0</td>\n",
       "      <td>nonexistent</td>\n",
       "      <td>1.1</td>\n",
       "      <td>93.994</td>\n",
       "      <td>-36.4</td>\n",
       "      <td>4.857</td>\n",
       "      <td>5191.0</td>\n",
       "      <td>no</td>\n",
       "    </tr>\n",
       "    <tr>\n",
       "      <th>1</th>\n",
       "      <td>57</td>\n",
       "      <td>services</td>\n",
       "      <td>married</td>\n",
       "      <td>high.school</td>\n",
       "      <td>unknown</td>\n",
       "      <td>no</td>\n",
       "      <td>no</td>\n",
       "      <td>telephone</td>\n",
       "      <td>may</td>\n",
       "      <td>mon</td>\n",
       "      <td>...</td>\n",
       "      <td>1</td>\n",
       "      <td>999</td>\n",
       "      <td>0</td>\n",
       "      <td>nonexistent</td>\n",
       "      <td>1.1</td>\n",
       "      <td>93.994</td>\n",
       "      <td>-36.4</td>\n",
       "      <td>4.857</td>\n",
       "      <td>5191.0</td>\n",
       "      <td>no</td>\n",
       "    </tr>\n",
       "    <tr>\n",
       "      <th>2</th>\n",
       "      <td>37</td>\n",
       "      <td>services</td>\n",
       "      <td>married</td>\n",
       "      <td>high.school</td>\n",
       "      <td>no</td>\n",
       "      <td>yes</td>\n",
       "      <td>no</td>\n",
       "      <td>telephone</td>\n",
       "      <td>may</td>\n",
       "      <td>mon</td>\n",
       "      <td>...</td>\n",
       "      <td>1</td>\n",
       "      <td>999</td>\n",
       "      <td>0</td>\n",
       "      <td>nonexistent</td>\n",
       "      <td>1.1</td>\n",
       "      <td>93.994</td>\n",
       "      <td>-36.4</td>\n",
       "      <td>4.857</td>\n",
       "      <td>5191.0</td>\n",
       "      <td>no</td>\n",
       "    </tr>\n",
       "    <tr>\n",
       "      <th>3</th>\n",
       "      <td>40</td>\n",
       "      <td>admin.</td>\n",
       "      <td>married</td>\n",
       "      <td>basic.6y</td>\n",
       "      <td>no</td>\n",
       "      <td>no</td>\n",
       "      <td>no</td>\n",
       "      <td>telephone</td>\n",
       "      <td>may</td>\n",
       "      <td>mon</td>\n",
       "      <td>...</td>\n",
       "      <td>1</td>\n",
       "      <td>999</td>\n",
       "      <td>0</td>\n",
       "      <td>nonexistent</td>\n",
       "      <td>1.1</td>\n",
       "      <td>93.994</td>\n",
       "      <td>-36.4</td>\n",
       "      <td>4.857</td>\n",
       "      <td>5191.0</td>\n",
       "      <td>no</td>\n",
       "    </tr>\n",
       "    <tr>\n",
       "      <th>4</th>\n",
       "      <td>56</td>\n",
       "      <td>services</td>\n",
       "      <td>married</td>\n",
       "      <td>high.school</td>\n",
       "      <td>no</td>\n",
       "      <td>no</td>\n",
       "      <td>yes</td>\n",
       "      <td>telephone</td>\n",
       "      <td>may</td>\n",
       "      <td>mon</td>\n",
       "      <td>...</td>\n",
       "      <td>1</td>\n",
       "      <td>999</td>\n",
       "      <td>0</td>\n",
       "      <td>nonexistent</td>\n",
       "      <td>1.1</td>\n",
       "      <td>93.994</td>\n",
       "      <td>-36.4</td>\n",
       "      <td>4.857</td>\n",
       "      <td>5191.0</td>\n",
       "      <td>no</td>\n",
       "    </tr>\n",
       "  </tbody>\n",
       "</table>\n",
       "<p>5 rows × 21 columns</p>\n",
       "</div>"
      ],
      "text/plain": [
       "   age        job  marital    education  default housing loan    contact  \\\n",
       "0   56  housemaid  married     basic.4y       no      no   no  telephone   \n",
       "1   57   services  married  high.school  unknown      no   no  telephone   \n",
       "2   37   services  married  high.school       no     yes   no  telephone   \n",
       "3   40     admin.  married     basic.6y       no      no   no  telephone   \n",
       "4   56   services  married  high.school       no      no  yes  telephone   \n",
       "\n",
       "  month day_of_week  ...  campaign  pdays  previous     poutcome emp.var.rate  \\\n",
       "0   may         mon  ...         1    999         0  nonexistent          1.1   \n",
       "1   may         mon  ...         1    999         0  nonexistent          1.1   \n",
       "2   may         mon  ...         1    999         0  nonexistent          1.1   \n",
       "3   may         mon  ...         1    999         0  nonexistent          1.1   \n",
       "4   may         mon  ...         1    999         0  nonexistent          1.1   \n",
       "\n",
       "   cons.price.idx  cons.conf.idx  euribor3m  nr.employed   y  \n",
       "0          93.994          -36.4      4.857       5191.0  no  \n",
       "1          93.994          -36.4      4.857       5191.0  no  \n",
       "2          93.994          -36.4      4.857       5191.0  no  \n",
       "3          93.994          -36.4      4.857       5191.0  no  \n",
       "4          93.994          -36.4      4.857       5191.0  no  \n",
       "\n",
       "[5 rows x 21 columns]"
      ]
     },
     "execution_count": 3,
     "metadata": {},
     "output_type": "execute_result"
    }
   ],
   "source": [
    "def load_bank_marketing(local_csv: str = \"bank-additional-full.csv\") -> pd.DataFrame:\n",
    "    if os.path.exists(local_csv):\n",
    "        return pd.read_csv(local_csv, sep=';')\n",
    "    \n",
    "    # Download from UCI if not found locally\n",
    "    url = \"https://archive.ics.uci.edu/ml/machine-learning-databases/00222/bank-additional.zip\"\n",
    "    with urllib.request.urlopen(url) as resp:\n",
    "        zdata = resp.read()\n",
    "    with zipfile.ZipFile(io.BytesIO(zdata)) as zf:\n",
    "        with zf.open(\"bank-additional/bank-additional-full.csv\") as f:\n",
    "            df_ = pd.read_csv(f, sep=';')\n",
    "    \n",
    "    # Save locally for future use\n",
    "    df_.to_csv(local_csv, index=False, sep=';')\n",
    "    return df_\n",
    "\n",
    "# Load the dataset\n",
    "df = load_bank_marketing()\n",
    "df.head()"
   ]
  },
  {
   "cell_type": "code",
   "execution_count": 4,
   "id": "10ea4938-625b-499c-8e27-e7160c2b558c",
   "metadata": {},
   "outputs": [
    {
     "name": "stdout",
     "output_type": "stream",
     "text": [
      "Shape: (41188, 21)\n",
      "\n",
      "Target distribution:\n",
      " y\n",
      "no     36548\n",
      "yes     4640\n",
      "Name: count, dtype: int64\n",
      "\n",
      "Missing values per column:\n",
      " age               0\n",
      "campaign          0\n",
      "nr.employed       0\n",
      "euribor3m         0\n",
      "cons.conf.idx     0\n",
      "cons.price.idx    0\n",
      "emp.var.rate      0\n",
      "poutcome          0\n",
      "previous          0\n",
      "pdays             0\n",
      "duration          0\n",
      "job               0\n",
      "day_of_week       0\n",
      "month             0\n",
      "contact           0\n",
      "loan              0\n",
      "housing           0\n",
      "default           0\n",
      "education         0\n",
      "marital           0\n",
      "y                 0\n",
      "dtype: int64\n",
      "\n",
      "Numeric features: ['age', 'duration', 'campaign', 'pdays', 'previous', 'emp.var.rate', 'cons.price.idx', 'cons.conf.idx', 'euribor3m', 'nr.employed']\n",
      "\n",
      "Categorical features (first 10): ['job', 'marital', 'education', 'default', 'housing', 'loan', 'contact', 'month', 'day_of_week', 'poutcome']\n"
     ]
    }
   ],
   "source": [
    "print(\"Shape:\", df.shape)\n",
    "print(\"\\nTarget distribution:\\n\", df['y'].value_counts())\n",
    "print(\"\\nMissing values per column:\\n\", df.isna().sum().sort_values(ascending=False))\n",
    "\n",
    "target_col = 'y'\n",
    "feature_cols = [c for c in df.columns if c != target_col]\n",
    "cat_cols = [c for c in feature_cols if df[c].dtype == 'object']\n",
    "num_cols = [c for c in feature_cols if c not in cat_cols]\n",
    "print(\"\\nNumeric features:\", num_cols)\n",
    "print(\"\\nCategorical features (first 10):\", cat_cols[:10])\n"
   ]
  },
  {
   "cell_type": "code",
   "execution_count": 13,
   "id": "34734735-a0cb-4781-aa02-0e0be091af90",
   "metadata": {},
   "outputs": [],
   "source": [
    "if df['y'].dtype == 'object':\n",
    "    df[target_col] = (df[target_col].str.strip().str.lower() == 'yes').astype(int)\n",
    "else:\n",
    "    df[target_col] = df['y'].astype(int)\n",
    "    X = df[feature_cols]\n",
    "y = df[target_col]\n",
    "\n",
    "X_train, X_test, y_train, y_test = train_test_split(\n",
    "    X, y, test_size=0.2, stratify=y, random_state=RANDOM_STATE\n",
    ")\n",
    "\n",
    "preprocess = ColumnTransformer(\n",
    "    transformers=[\n",
    "        (\"cat\", OneHotEncoder(handle_unknown=\"ignore\"), cat_cols),\n",
    "        (\"num\", StandardScaler(), num_cols),\n",
    "    ],\n",
    "    remainder='drop'\n",
    ")"
   ]
  },
  {
   "cell_type": "code",
   "execution_count": 14,
   "id": "03b2719e-5098-4bba-a462-ad498e11955c",
   "metadata": {},
   "outputs": [],
   "source": [
    "log_reg = Pipeline(steps=[\n",
    "    (\"prep\", preprocess),\n",
    "    (\"clf\", LogisticRegression(max_iter=2000, class_weight='balanced', random_state=RANDOM_STATE)),\n",
    "])\n",
    "\n",
    "rf = Pipeline(steps=[\n",
    "    (\"prep\", preprocess),\n",
    "    (\"clf\", RandomForestClassifier(\n",
    "        n_estimators=400, min_samples_leaf=2, n_jobs=-1,\n",
    "        class_weight='balanced', random_state=RANDOM_STATE\n",
    "    )),\n",
    "])"
   ]
  },
  {
   "cell_type": "code",
   "execution_count": 15,
   "id": "fc191cdb-8400-49bf-be49-2d452a0e8dd7",
   "metadata": {},
   "outputs": [
    {
     "name": "stdout",
     "output_type": "stream",
     "text": [
      "Models trained.\n"
     ]
    }
   ],
   "source": [
    "log_reg.fit(X_train, y_train)\n",
    "rf.fit(X_train, y_train)\n",
    "print(\"Models trained.\")"
   ]
  },
  {
   "cell_type": "code",
   "execution_count": 16,
   "id": "935742c9-5d7e-49b6-97eb-c35bd18605f1",
   "metadata": {
    "scrolled": true
   },
   "outputs": [
    {
     "name": "stdout",
     "output_type": "stream",
     "text": [
      "\n",
      "Logistic Regression — F1: 0.6036\n",
      "              precision    recall  f1-score   support\n",
      "\n",
      "           0     0.9871    0.8592    0.9187      7310\n",
      "           1     0.4512    0.9116    0.6036       928\n",
      "\n",
      "    accuracy                         0.8651      8238\n",
      "   macro avg     0.7192    0.8854    0.7612      8238\n",
      "weighted avg     0.9267    0.8651    0.8832      8238\n",
      "\n"
     ]
    },
    {
     "data": {
      "image/png": "[encoded data removed]",
      "text/plain": [
       "<Figure size 700x500 with 2 Axes>"
      ]
     },
     "metadata": {},
     "output_type": "display_data"
    },
    {
     "name": "stdout",
     "output_type": "stream",
     "text": [
      "\n",
      "Random Forest — F1: 0.6641\n",
      "              precision    recall  f1-score   support\n",
      "\n",
      "           0     0.9672    0.9354    0.9510      7310\n",
      "           1     0.5959    0.7500    0.6641       928\n",
      "\n",
      "    accuracy                         0.9145      8238\n",
      "   macro avg     0.7815    0.8427    0.8076      8238\n",
      "weighted avg     0.9254    0.9145    0.9187      8238\n",
      "\n"
     ]
    },
    {
     "data": {
      "image/png": "[encoded data removed]",
      "text/plain": [
       "<Figure size 700x500 with 2 Axes>"
      ]
     },
     "metadata": {},
     "output_type": "display_data"
    },
    {
     "data": {
      "image/png": "[encoded data removed]",
      "text/plain": [
       "<Figure size 700x500 with 1 Axes>"
      ]
     },
     "metadata": {},
     "output_type": "display_data"
    }
   ],
   "source": [
    "def evaluate_model(name, pipe, X_te, y_te):\n",
    "    y_pred = pipe.predict(X_te)\n",
    "    y_prob = pipe.predict_proba(X_te)[:, 1]\n",
    "    print(f\"\\n{name} — F1:\", round(f1_score(y_te, y_pred), 4))\n",
    "    print(classification_report(y_te, y_pred, digits=4))\n",
    "    cm = confusion_matrix(y_te, y_pred, labels=[0,1])\n",
    "    ConfusionMatrixDisplay(cm, display_labels=['no','yes']).plot(values_format='d')\n",
    "    plt.title(f\"{name} — Confusion Matrix\"); plt.tight_layout(); plt.show()\n",
    "    fpr, tpr, _ = roc_curve(y_te, y_prob)\n",
    "    return fpr, tpr, auc(fpr, tpr)\n",
    "\n",
    "fpr_lr, tpr_lr, auc_lr = evaluate_model(\"Logistic Regression\", log_reg, X_test, y_test)\n",
    "fpr_rf, tpr_rf, auc_rf = evaluate_model(\"Random Forest\", rf, X_test, y_test)\n",
    "\n",
    "plt.figure()\n",
    "plt.plot(fpr_lr, tpr_lr, label=f\"LogReg (AUC={auc_lr:.3f})\")\n",
    "plt.plot(fpr_rf, tpr_rf, label=f\"RandomForest (AUC={auc_rf:.3f})\")\n",
    "plt.plot([0,1],[0,1],'--')\n",
    "plt.xlabel(\"False Positive Rate\"); plt.ylabel(\"True Positive Rate\")\n",
    "plt.title(\"ROC Curve Comparison\"); plt.legend(loc=\"lower right\")\n",
    "plt.tight_layout(); plt.show()"
   ]
  },
  {
   "cell_type": "code",
   "execution_count": 18,
   "id": "648bf451-6ce9-449d-be2d-a93a055f7484",
   "metadata": {},
   "outputs": [
    {
     "name": "stdout",
     "output_type": "stream",
     "text": [
      "Best threshold for RF: 0.475  |  Best F1: 0.6731\n"
     ]
    }
   ],
   "source": [
    "probs = rf.predict_proba(X_test)[:, 1]\n",
    "thresholds = np.linspace(0.1, 0.9, 33)\n",
    "best_t, best_f1 = max(((t, f1_score(y_test, (probs >= t).astype(int))) for t in thresholds), key=lambda x: x[1])\n",
    "print(f\"Best threshold for RF: {best_t:.3f}  |  Best F1: {best_f1:.4f}\")"
   ]
  },
  {
   "cell_type": "code",
   "execution_count": null,
   "id": "7ceb31c2-a734-45c8-af5c-e3e13357d661",
   "metadata": {},
   "outputs": [],
   "source": [
    "prep = rf.named_steps[\"prep\"]\n",
    "rf_model = rf.named_steps[\"clf\"]\n",
    "ohe = prep.named_transformers_[\"cat\"]\n",
    "\n",
    "ohe_feature_names = list(ohe.get_feature_names_out(cat_cols))\n",
    "num_feature_names = list(prep.named_transformers_[\"num\"].feature_names_in_)\n",
    "feature_names = ohe_feature_names + num_feature_names\n",
    "\n",
    "X_test_trans = prep.transform(X_test)\n",
    "X_shap = X_test_trans.toarray() if hasattr(X_test_trans, \"toarray\") else X_test_trans\n",
    "\n",
    "explainer = shap.TreeExplainer(rf_model)\n",
    "shap_values = explainer.shap_values(X_shap)\n",
    "\n",
    "# Global importance\n",
    "shap.summary_plot(shap_values[1], X_shap, feature_names=feature_names, show=True)\n",
    "\n",
    "# Save 5 individual prediction waterfalls\n",
    "idxs = np.random.choice(range(X_shap.shape[0]), size=5, replace=False)\n",
    "for i, idx in enumerate(idxs, start=1):\n",
    "    exp = shap.Explanation(\n",
    "        values=shap_values[1][idx],\n",
    "        base_values=explainer.expected_value[1],\n",
    "        data=X_shap[idx],\n",
    "        feature_names=feature_names\n",
    "    )\n",
    "    plt.figure()\n",
    "    shap.plots.waterfall(exp, max_display=15, show=False)\n",
    "    plt.tight_layout()\n",
    "    plt.savefig(f\"shap_waterfall_{i}.png\", dpi=160)\n",
    "    plt.close()\n",
    "\n",
    "    print(\"Saved: shap_waterfall_1.png ... shap_waterfall_5.png\")\n",
    "#               "
   ]
  },
  {
   "cell_type": "code",
   "execution_count": 12,
   "id": "f619ddc1-2dfd-4308-91a3-4824b0ffbfb8",
   "metadata": {},
   "outputs": [
    {
     "name": "stdout",
     "output_type": "stream",
     "text": [
      "current folder: C:\\Users\\HP\n"
     ]
    }
   ],
   "source": [
    "import os\n",
    "print('current folder:', os.getcwd())"
   ]
  }
 ],
 "metadata": {
  "kernelspec": {
   "display_name": "Python 3 (ipykernel)",
   "language": "python",
   "name": "python3"
  },
  "language_info": {
   "codemirror_mode": {
    "name": "ipython",
    "version": 3
   },
   "file_extension": ".py",
   "mimetype": "text/x-python",
   "name": "python",
   "nbconvert_exporter": "python",
   "pygments_lexer": "ipython3",
   "version": "3.13.7"
  }
 },
 "nbformat": 4,
 "nbformat_minor": 5
}
